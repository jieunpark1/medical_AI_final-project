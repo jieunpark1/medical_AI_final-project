{
 "cells": [
  {
   "cell_type": "markdown",
   "id": "74c3bee0",
   "metadata": {},
   "source": [
    "## 0) 필요한 라이브러리 설치 및 Import"
   ]
  },
  {
   "cell_type": "code",
   "execution_count": null,
   "id": "f15104f7",
   "metadata": {
    "vscode": {
     "languageId": "plaintext"
    }
   },
   "outputs": [],
   "source": [
    "!pip install -q torchvision sklearn\n",
    "\n",
    "# import\n",
    "import os\n",
    "import numpy as np\n",
    "import pandas as pd\n",
    "import matplotlib.pyplot as plt\n",
    "from PIL import Image\n",
    "from sklearn.metrics import classification_report, roc_auc_score, roc_curve, confusion_matrix\n",
    "\n",
    "import torch\n",
    "from torch import nn\n",
    "from torch.utils.data import Dataset, DataLoader\n",
    "from torchvision import transforms, models"
   ]
  },
  {
   "cell_type": "markdown",
   "id": "0f2e97e6",
   "metadata": {},
   "source": [
    "## 1) 캐글에서 데이터 다운로드"
   ]
  },
  {
   "cell_type": "code",
   "execution_count": null,
   "id": "c1f89c45",
   "metadata": {
    "vscode": {
     "languageId": "plaintext"
    }
   },
   "outputs": [],
   "source": [
    "from google.colab import files\n",
    "files.upload()  # kaggle.json\n",
    "\n",
    "!mkdir -p ~/.kaggle\n",
    "!cp kaggle.json ~/.kaggle/\n",
    "!chmod 600 ~/.kaggle/kaggle.json\n",
    "\n",
    "!kaggle datasets download -d paultimothymooney/chest-xray-pneumonia\n",
    "!unzip -q chest-xray-pneumonia.zip -d /content\n",
    "\n",
    "# 중복 제거 (있는 경우만)\n",
    "!mv /content/chest_xray/chest_xray/* /content/chest_xray/ 2>/dev/null\n",
    "!rm -r /content/chest_xray/chest_xray 2>/dev/null"
   ]
  },
  {
   "cell_type": "markdown",
   "id": "7c8fc794",
   "metadata": {},
   "source": [
    "## 1) eda"
   ]
  },
  {
   "cell_type": "code",
   "execution_count": null,
   "id": "11c9ad0a",
   "metadata": {
    "vscode": {
     "languageId": "plaintext"
    }
   },
   "outputs": [],
   "source": [
    "csv_files = {\n",
    "    'train': '/content/DATA/csv/train_list.csv',\n",
    "    'val': '/content/DATA/csv/val_list.csv',\n",
    "    'test': '/content/DATA/csv/test_list.csv',\n",
    "}\n",
    "\n",
    "#각 split 별, label 별 historgram 살펴보기\n",
    "\n",
    "fig, axes = plt.subplots(nrow=3, ncols=1, figsize=(8, 12))\n",
    "fig.title('Histogram of CT image datasets', fontsize=16)\n",
    "colors = ['skyblue', 'orange']\n",
    "\n",
    "for idx, (split, path) in enumerate(csv_paths.items()):\n",
    "    df = pd.read_csv(path)\n",
    "    \n",
    "    label_counts = df['label'].value_counts().sort_index()\n",
    "    \n",
    "    # 막대 차트 그리기\n",
    "    axes[idx].bar(['Normal (0)', 'Pneumonia (1)'], label_counts, color=colors)\n",
    "    axes[idx].set_title(f'{split} Set')\n",
    "    axes[idx].set_ylabel('Count')\n",
    "    axes[idx].set_ylim(0, max(label_counts) * 1.2)\n",
    "\n",
    "    # 개수 텍스트로 표시\n",
    "    for i, count in enumerate(label_counts):\n",
    "        axes[idx].text(i, count + 5, str(count), ha='center', va='bottom')\n",
    "\n",
    "plt.tight_layout(rect=[0, 0, 1, 0.95])\n",
    "plt.show()"
   ]
  },
  {
   "cell_type": "markdown",
   "id": "fb075c5e",
   "metadata": {},
   "source": [
    "- train 데이터의 불균형이 심하다. 따라서 augmentation을 통해 데이터 개수의 균형을 맞추는 것이 중요\n"
   ]
  },
  {
   "cell_type": "code",
   "execution_count": null,
   "id": "d290d22b",
   "metadata": {
    "vscode": {
     "languageId": "plaintext"
    }
   },
   "outputs": [],
   "source": [
    "#미리 보기\n",
    "\n",
    "#train 각 label 별로 / val/test.. 2*3 형태로\n",
    "\n",
    "\n",
    "# Subplot: 3행 2열\n",
    "fig, axes = plt.subplots(3, 2, figsize=(10, 10))\n",
    "axes = axes.flatten()  # 1차원 배열로 변환\n",
    "\n",
    "for split, path in csv_paths.items():\n",
    "    for lb in [\"NORMAL\", \"PNEUMONIA\"]:\n",
    "        df = pd.read_csv(path)\n",
    "        sample_df = df.loc[df.label == lb, ['path', 'label']]\n",
    "        \n",
    "        img_path = sample_df.loc[0, 'path']\n",
    "        label = sample_df.loc[0, 'label']\n",
    "        \n",
    "        # 이미지 불러오기\n",
    "        image = Image.open(img_path)\n",
    "        \n",
    "        # 시각화\n",
    "        axes[i].imshow(image, cmap='gray')\n",
    "        axes[i].set_title(f'Label: {label}')\n",
    "        axes[i].axis('off')\n",
    "\n",
    "plt.tight_layout()\n",
    "plt.show()"
   ]
  },
  {
   "cell_type": "code",
   "execution_count": null,
   "id": "73244ca3",
   "metadata": {
    "vscode": {
     "languageId": "plaintext"
    }
   },
   "outputs": [],
   "source": [
    "# dataloader\n",
    "\n",
    "class CSVImageDataset(Dataset):\n",
    "    def __init__(self, csv_path, transform=None):\n",
    "        self.df = pd.read_csv(csv_path)\n",
    "        self.transform = transform\n",
    "        # 문자열 라벨을 숫자로 바꾸는 매핑\n",
    "        self.label_map = {'NORMAL': 0, 'PNEUMONIA': 1}\n",
    "\n",
    "    def __len__(self):\n",
    "        return len(self.df)\n",
    "\n",
    "    def __getitem__(self, idx):\n",
    "        image_path = self.df.iloc[idx]['path']\n",
    "        label_str = self.df.iloc[idx]['label']\n",
    "        label = self.label_map[label_str]\n",
    "\n",
    "        # 흑백 이미지 불러오기\n",
    "        image = Image.open(image_path).convert('L')\n",
    "        if self.transform:\n",
    "            image = self.transform(image)\n",
    "        return image, label"
   ]
  },
  {
   "cell_type": "code",
   "execution_count": null,
   "id": "5b403c51",
   "metadata": {
    "vscode": {
     "languageId": "plaintext"
    }
   },
   "outputs": [],
   "source": []
  }
 ],
 "metadata": {
  "language_info": {
   "name": "python"
  }
 },
 "nbformat": 4,
 "nbformat_minor": 5
}
